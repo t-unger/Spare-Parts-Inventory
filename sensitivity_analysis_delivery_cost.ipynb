{
 "cells": [
  {
   "cell_type": "code",
   "execution_count": 11,
   "id": "8950f81f",
   "metadata": {},
   "outputs": [],
   "source": [
    "import numpy as np\n",
    "import matplotlib.pyplot as plt\n",
    "import pandas as pd\n",
    "import scipy.stats as stats\n",
    "from state_space_setup import *"
   ]
  },
  {
   "cell_type": "code",
   "execution_count": 12,
   "id": "4762e8f0",
   "metadata": {},
   "outputs": [
    {
     "name": "stdout",
     "output_type": "stream",
     "text": [
      "Maximum number of parts in the inventory: 41\n"
     ]
    }
   ],
   "source": [
    "# load the necessary data created by the optimisation script\n",
    "trans_prob_matrix = np.load(\"trans_prob_matrix.npy\")\n",
    "cost_matrix = np.load(\"cost_matrix.npy\")\n",
    "policy = pd.read_csv('policy.csv')\n",
    "\n",
    "# format and extract the maximum number of parts from the loaded policy dataframe\n",
    "policy['State'] = policy['State'].apply(lambda x: tuple(map(int, x.strip('()').split(','))))\n",
    "maximum_parts = policy['State'].apply(lambda x: x[0]).max()\n",
    "print(\"Maximum number of parts in the inventory:\", maximum_parts)\n",
    "\n",
    "# generate the state space\n",
    "state_space = get_state_space(maximum_parts)\n",
    "state_tuples = list(map(tuple, state_space))\n",
    "\n",
    "\n",
    "def downtime_cost(num_parts, k=10080, lambda_=2, cost_per_week=16800):\n",
    "    if num_parts == 0:\n",
    "        return cost_per_week\n",
    "\n",
    "    m = np.arange(1, k + 1)\n",
    "    i = np.arange(num_parts)\n",
    "    lambda_m = (lambda_ / k) * (k - m[:, None])  \n",
    "\n",
    "    pmf = stats.poisson.pmf(i[None, :], lambda_m)\n",
    "    sf = stats.poisson.sf(num_parts - i - 1, lambda_ / k)\n",
    "\n",
    "    prob = np.sum(pmf * sf, axis=1)\n",
    "    weighted_cost = prob * (m / k) * cost_per_week\n",
    "    total_cost = np.sum(weighted_cost)\n",
    "    normalisation = stats.poisson.sf(num_parts - 1, lambda_)\n",
    "\n",
    "    return total_cost / normalisation\n",
    "\n",
    "\n",
    "downtime_vector = np.array([downtime_cost(num_parts) for num_parts in np.arange(maximum_parts + 1)])\n",
    "\n",
    "\n",
    "def cost_function(old_state, new_state, action, ordering_cost=200):\n",
    "    global downtime_vector\n",
    "\n",
    "    holding_cost_as_percentage = 0.008\n",
    "    price_per_part = 100\n",
    "\n",
    "\n",
    "    if action == 0:\n",
    "        order_cost = 0\n",
    "    else:\n",
    "        order_cost = ordering_cost + price_per_part * action\n",
    "\n",
    "    if (new_state[0] == (old_state[1] + action) and new_state[1] == 0) or (new_state[0] == 0):\n",
    "        shortage_cost = downtime_vector[old_state[0]]\n",
    "    else:\n",
    "        shortage_cost = 0\n",
    "\n",
    "    holding_cost = holding_cost_as_percentage * price_per_part * (new_state[0] + new_state[1])\n",
    "\n",
    "    return holding_cost + order_cost + shortage_cost\n",
    "\n",
    "\n",
    "def expected_action_value(current_state, action, values):\n",
    "    global maximum_parts\n",
    "    global cost_matrix\n",
    "    global trans_prob_matrix\n",
    "\n",
    "    discount_factor = 0.995\n",
    "\n",
    "    current_state_idx = get_index(current_state[0], current_state[1], maximum_parts)\n",
    "\n",
    "    probs = trans_prob_matrix[current_state_idx, :, action]\n",
    "    costs = cost_matrix[current_state_idx, :, action]\n",
    "    expected_value = np.dot(probs, costs + discount_factor * values)\n",
    "    return expected_value"
   ]
  },
  {
   "cell_type": "code",
   "execution_count": 13,
   "id": "2abbaf40",
   "metadata": {},
   "outputs": [],
   "source": [
    "ordering_costs = np.arange(0, 201, 10)\n",
    "policies = np.zeros((len(ordering_costs), 2))\n",
    "\n",
    "# Value iteration setup\n",
    "error = 1e-3\n",
    "values = np.zeros(len(state_space))\n",
    "delta = 2 * error"
   ]
  },
  {
   "cell_type": "code",
   "execution_count": 14,
   "id": "66a71a56",
   "metadata": {},
   "outputs": [
    {
     "name": "stdout",
     "output_type": "stream",
     "text": [
      "Iteration 1/21 completed. For delivery cost 0 we get, s = 15, S = 16\n",
      "Iteration 2/21 completed. For delivery cost 10 we get, s = 13, S = 19\n",
      "Iteration 3/21 completed. For delivery cost 20 we get, s = 12, S = 21\n",
      "Iteration 4/21 completed. For delivery cost 30 we get, s = 12, S = 22\n",
      "Iteration 5/21 completed. For delivery cost 40 we get, s = 12, S = 23\n",
      "Iteration 6/21 completed. For delivery cost 50 we get, s = 12, S = 25\n",
      "Iteration 7/21 completed. For delivery cost 60 we get, s = 12, S = 26\n",
      "Iteration 8/21 completed. For delivery cost 70 we get, s = 12, S = 27\n",
      "Iteration 9/21 completed. For delivery cost 80 we get, s = 12, S = 28\n",
      "Iteration 10/21 completed. For delivery cost 90 we get, s = 12, S = 28\n",
      "Iteration 11/21 completed. For delivery cost 100 we get, s = 12, S = 29\n",
      "Iteration 12/21 completed. For delivery cost 110 we get, s = 11, S = 30\n",
      "Iteration 13/21 completed. For delivery cost 120 we get, s = 11, S = 31\n",
      "Iteration 14/21 completed. For delivery cost 130 we get, s = 11, S = 32\n",
      "Iteration 15/21 completed. For delivery cost 140 we get, s = 11, S = 32\n",
      "Iteration 16/21 completed. For delivery cost 150 we get, s = 11, S = 33\n",
      "Iteration 17/21 completed. For delivery cost 160 we get, s = 11, S = 34\n",
      "Iteration 18/21 completed. For delivery cost 170 we get, s = 11, S = 34\n",
      "Iteration 19/21 completed. For delivery cost 180 we get, s = 11, S = 35\n",
      "Iteration 20/21 completed. For delivery cost 190 we get, s = 11, S = 35\n",
      "Iteration 21/21 completed. For delivery cost 200 we get, s = 11, S = 36\n"
     ]
    }
   ],
   "source": [
    "for k, cost in enumerate(ordering_costs):\n",
    "    cost_matrix = np.zeros((len(state_space), len(state_space), maximum_parts + 1))\n",
    "    for i, s_old in enumerate(state_space):\n",
    "        for j, s_new in enumerate(state_space):\n",
    "            for a in range(maximum_parts + 1):\n",
    "                cost_matrix[i, j, a] = cost_function(s_old, s_new, a, ordering_cost=cost)\n",
    "\n",
    "\n",
    "    while delta >= error:\n",
    "        delta = 0\n",
    "        old_values = np.copy(values)\n",
    "        for i, state in enumerate(state_space):\n",
    "            v = values[i]\n",
    "            action_space = get_action_space(state, maximum_parts)\n",
    "            action_costs = np.array([\n",
    "                expected_action_value(state, act, old_values)\n",
    "                for act in action_space\n",
    "            ])\n",
    "            values[i] = np.min(action_costs)\n",
    "            delta = max(delta, abs(v - values[i]))\n",
    "        \n",
    "\n",
    "    policy_records = []\n",
    "    for state in state_tuples:\n",
    "        action_space = get_action_space(state, maximum_parts)\n",
    "        action_costs = np.array([\n",
    "            expected_action_value(state, act, values)\n",
    "            for act in action_space\n",
    "        ])\n",
    "        order = action_space[np.argmin(action_costs)]\n",
    "        policy_records.append((state, order))\n",
    "\n",
    "    policy_df = pd.DataFrame(policy_records, columns=[\"State\", \"Order_size\"])\n",
    "    policy_df[\"IP\"] = policy_df[\"State\"].apply(sum)\n",
    "    policy_df[\"New_IP\"] = policy_df[\"IP\"] + policy_df[\"Order_size\"]\n",
    "    filtered_policy_df = policy_df[policy_df[\"Order_size\"] != 0]\n",
    "    s = filtered_policy_df[\"IP\"].max()\n",
    "    S = filtered_policy_df[\"New_IP\"].max()\n",
    "    policies[k] = [s, S]\n",
    "    print(f\"Iteration {k + 1}/{len(ordering_costs)} completed. For delivery cost {cost} we get, s = {s}, S = {S}\")\n",
    "    values = np.zeros(len(state_space))\n",
    "    delta = 2 * error\n",
    "\n",
    "\n",
    "\n",
    "    "
   ]
  },
  {
   "cell_type": "code",
   "execution_count": 15,
   "id": "977bb4a6",
   "metadata": {},
   "outputs": [
    {
     "data": {
      "image/png": "[encoded data removed]",
      "text/plain": [
       "<Figure size 640x480 with 1 Axes>"
      ]
     },
     "metadata": {},
     "output_type": "display_data"
    }
   ],
   "source": [
    "plt.vlines(ordering_costs, policies[:,0], policies[:,1], \n",
    "           color=\"#A499F4\", alpha=1, linewidth=8)\n",
    "plt.plot(ordering_costs, policies[:,0], \"o-\", label=\"s\", color=\"gray\")\n",
    "plt.plot(ordering_costs, policies[:,1], \"o-\", label=\"S\", color=\"black\")\n",
    "plt.xlabel(\"Ordering Cost (% of Price Per Unit)\")\n",
    "plt.ylabel(\"Policy Limits\")\n",
    "plt.title(\"(s, S) policies for different ordering costs ($\\\\lambda=2$)\")\n",
    "plt.ylim(0, 41)\n",
    "plt.grid(True, which=\"both\", linestyle=\"-\", linewidth=0.5, alpha=0.5)\n",
    "plt.legend()\n",
    "plt.show()\n"
   ]
  }
 ],
 "metadata": {
  "kernelspec": {
   "display_name": "nevergrad",
   "language": "python",
   "name": "python3"
  },
  "language_info": {
   "codemirror_mode": {
    "name": "ipython",
    "version": 3
   },
   "file_extension": ".py",
   "mimetype": "text/x-python",
   "name": "python",
   "nbconvert_exporter": "python",
   "pygments_lexer": "ipython3",
   "version": "3.12.8"
  }
 },
 "nbformat": 4,
 "nbformat_minor": 5
}
